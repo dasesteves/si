{
 "cells": [
  {
   "cell_type": "markdown",
   "metadata": {},
   "source": [
    "# SIB - Portfolio of Machine Learning Algorithms"
   ]
  },
  {
   "cell_type": "markdown",
   "metadata": {},
   "source": [
    "## Exercise 5: Implementing PCA"
   ]
  },
  {
   "cell_type": "markdown",
   "metadata": {},
   "source": [
    "### 5.1) \n",
    "Add the \"PCA\" class in the \"pca.py\" module on the \"decomposition\" sub-package. Consider the PCA class structure:\n",
    "\n",
    "PCA is a linear algebra technique used to reduce the dimensions of the dataset. The PCA to be implemented must use eigenvalue decomposition of the covariance matrix of the data.\n",
    "\n",
    "class PCA(Transformer):\n",
    "- parameters:\n",
    "  - n_components – number of components\n",
    "- estimated parameters:\n",
    "  - mean – mean of the samples\n",
    "  - components – the principal components (eigenvectors)\n",
    "  - explained_variance – amount of variance explained by each component\n",
    "- methods:\n",
    "  - _fit – estimates the mean, components, and explained variance\n",
    "  - _transform – calculates the reduced dataset using the components"
   ]
  },
  {
   "cell_type": "markdown",
   "metadata": {},
   "source": [
    "### 5.2) \n",
    "Test the PCA class using the iris.csv dataset (classification). Analyze the explained variance ratio of each principal component and verify how much information is retained with 2 components."
   ]
  },
  {
   "cell_type": "code",
   "execution_count": 2,
   "metadata": {},
   "outputs": [
    {
     "name": "stdout",
     "output_type": "stream",
     "text": [
      "Original shape: (150, 4)\n",
      "Transformed shape: (150, 2)\n",
      "\n",
      "Explained variance ratio:\n",
      "PC1: 0.9246\n",
      "PC2: 0.0530\n",
      "\n",
      "New features: ['PC1', 'PC2']\n",
      "\n",
      "First 5 samples of transformed data:\n",
      "[[-8.19555022  4.98811642]\n",
      " [-8.22673371  5.48428058]\n",
      " [-8.40116264  5.45206934]\n",
      " [-8.2577803   5.62584805]\n",
      " [-8.23993608  4.98079917]]\n",
      "Principal components:\n",
      "[[ 0.36158968 -0.08226889  0.85657211  0.35884393]\n",
      " [-0.65653988 -0.72971237  0.1757674   0.07470647]]\n",
      "Explained Variance:\n",
      "[0.92461621 0.05301557]\n"
     ]
    }
   ],
   "source": [
    "import sys\n",
    "sys.path.append('C:/Users/dases/Desktop/SI/repositorio/si-2/src')\n",
    "\n",
    "import numpy as np\n",
    "from si.decomposition.pca import PCA\n",
    "from si.io.csv_file import read_csv\n",
    "\n",
    "# Load the iris dataset\n",
    "iris = read_csv(\"../datasets/iris/iris.csv\", features=True, label=True)\n",
    "\n",
    "# Inicializar o PCA com 2 componentes\n",
    "pca = PCA(n_components=2)\n",
    "\n",
    "# Ajustar e transformar os dados\n",
    "transformed_iris = pca.fit_transform(iris)\n",
    "\n",
    "# Imprimir resultados\n",
    "print(\"Original shape:\", iris.X.shape)\n",
    "print(\"Transformed shape:\", transformed_iris.X.shape)\n",
    "\n",
    "print(\"\\nExplained variance ratio:\")\n",
    "for i, var in enumerate(pca.explained_variance):\n",
    "    print(f\"PC{i+1}: {var:.4f}\")\n",
    "\n",
    "print(\"\\nNew features:\", transformed_iris.features)\n",
    "\n",
    "# Imprimir as primeiras amostras dos dados transformados e os resultados gerais do PCA\n",
    "print(\"\\nFirst 5 samples of transformed data:\")\n",
    "print(transformed_iris.X[:5])\n",
    "\n",
    "print(\"Principal components:\")\n",
    "print(pca.components)\n",
    "\n",
    "print(\"Explained Variance:\")\n",
    "print(pca.explained_variance)"
   ]
  },
  {
   "cell_type": "markdown",
   "metadata": {},
   "source": [
    "A variância explicada por cada componente principal foi verificada, e os resultados mostram que a maior parte da informação é retida com 2 componentes."
   ]
  },
  {
   "cell_type": "markdown",
   "metadata": {},
   "source": []
  }
 ],
 "metadata": {
  "kernelspec": {
   "display_name": ".venv",
   "language": "python",
   "name": "python3"
  },
  "language_info": {
   "codemirror_mode": {
    "name": "ipython",
    "version": 3
   },
   "file_extension": ".py",
   "mimetype": "text/x-python",
   "name": "python",
   "nbconvert_exporter": "python",
   "pygments_lexer": "ipython3",
   "version": "3.11.9"
  }
 },
 "nbformat": 4,
 "nbformat_minor": 2
}
