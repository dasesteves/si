{
 "cells": [
  {
   "cell_type": "markdown",
   "metadata": {},
   "source": [
    "# SIB - Portfolio of Machine Learning Algorithms"
   ]
  },
  {
   "cell_type": "markdown",
   "metadata": {},
   "source": [
    "## Exercise 6: Implementing stratified splitting"
   ]
  },
  {
   "cell_type": "markdown",
   "metadata": {},
   "source": [
    "### 6.1) \n",
    "In the \"split.py\" module of the \"model_selection\" subpackage add the \"stratified_train_test_split\" function\n",
    "\n",
    "def stratified_train_test_split:\n",
    "- arguments:\n",
    "  - dataset – the Dataset object to split into training and testing data\n",
    "  - test_size – the size of the testing Dataset (e.g., 0.2 for 20%)\n",
    "  - random_state – seed for generating permutations\n",
    "- expected output:\n",
    "  - A tuple containing the stratified train and test Dataset objects\n",
    "- algorithm:\n",
    "  - Get unique class labels and their counts\n",
    "  - Initialize empty lists for train and test indices\n",
    "  - Loop through unique labels:\n",
    "    - Calculate the number of test samples for the current class\n",
    "    - Shuffle and select indices for the current class and add them to the test indices\n",
    "    - Add the remaining indices to the train indices\n",
    "  - After the loop, create training and testing datasets\n",
    "  - Return the training and testing datasets\n"
   ]
  },
  {
   "cell_type": "markdown",
   "metadata": {},
   "source": [
    "### 6.2) \n",
    "Test the \"stratified_train_test_split\" function with the iris dataset."
   ]
  },
  {
   "cell_type": "code",
   "execution_count": 1,
   "metadata": {},
   "outputs": [],
   "source": [
    "import sys\n",
    "sys.path.append('C:/Users/dases/Desktop/SI/repositorio/si-2/src')\n",
    "\n",
    "import numpy as np\n",
    "from si.io.csv_file import read_csv\n",
    "from si.model_selection.split import train_test_split, stratified_train_test_split\n",
    "\n",
    "# Carregar o dataset iris\n",
    "iris = read_csv(\"../datasets/iris/iris.csv\", features=True, label=True)\n"
   ]
  },
  {
   "cell_type": "code",
   "execution_count": 4,
   "metadata": {},
   "outputs": [
    {
     "name": "stdout",
     "output_type": "stream",
     "text": [
      "Class distribution in the original dataset:\n",
      "Class Iris-setosa: 50 samples\n",
      "Class Iris-versicolor: 50 samples\n",
      "Class Iris-virginica: 50 samples\n"
     ]
    }
   ],
   "source": [
    "unique_labels, counts = np.unique(iris.y, return_counts=True)\n",
    "print(\"Class distribution in the original dataset:\")\n",
    "for label, count in zip(unique_labels, counts):\n",
    "    print(f\"Class {label}: {count} samples\")"
   ]
  },
  {
   "cell_type": "code",
   "execution_count": 6,
   "metadata": {},
   "outputs": [
    {
     "name": "stdout",
     "output_type": "stream",
     "text": [
      "Train set size: 120\n",
      "Test set size: 30\n",
      "Train set class distribution: {'Iris-setosa': np.int64(40), 'Iris-versicolor': np.int64(40), 'Iris-virginica': np.int64(40)}\n",
      "Test set class distribution: {'Iris-setosa': np.int64(10), 'Iris-versicolor': np.int64(10), 'Iris-virginica': np.int64(10)}\n"
     ]
    }
   ],
   "source": [
    "train_dataset, test_dataset = stratified_train_test_split(iris, test_size=0.2, random_state=123)\n",
    "\n",
    "\n",
    "print(\"Train set size:\", train_dataset.shape()[0])\n",
    "print(\"Test set size:\", test_dataset.shape()[0])\n",
    "\n",
    "\n",
    "unique_train, counts_train = np.unique(train_dataset.y, return_counts=True)\n",
    "unique_test, counts_test = np.unique(test_dataset.y, return_counts=True)\n",
    "print(\"Train set class distribution:\", dict(zip(unique_train, counts_train)))\n",
    "print(\"Test set class distribution:\", dict(zip(unique_test, counts_test)))"
   ]
  }
 ],
 "metadata": {
  "kernelspec": {
   "display_name": ".venv",
   "language": "python",
   "name": "python3"
  },
  "language_info": {
   "codemirror_mode": {
    "name": "ipython",
    "version": 3
   },
   "file_extension": ".py",
   "mimetype": "text/x-python",
   "name": "python",
   "nbconvert_exporter": "python",
   "pygments_lexer": "ipython3",
   "version": "3.11.9"
  }
 },
 "nbformat": 4,
 "nbformat_minor": 2
}
