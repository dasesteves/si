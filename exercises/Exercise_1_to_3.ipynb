{
 "cells": [
  {
   "cell_type": "markdown",
   "metadata": {},
   "source": [
    "# SIB - Portfolio of Machine Learning Algorithms"
   ]
  },
  {
   "cell_type": "markdown",
   "metadata": {},
   "source": [
    "## Exercise 1: NumPy array Indexing/Slicing"
   ]
  },
  {
   "cell_type": "markdown",
   "metadata": {},
   "source": [
    "### 1.1) \n",
    "In this exercise, we will use the iris dataset. Load the \"iris.csv\" using the appropriate method for this file type (use the new functions from the package)."
   ]
  },
  {
   "cell_type": "code",
   "execution_count": 1,
   "metadata": {},
   "outputs": [
    {
     "name": "stdout",
     "output_type": "stream",
     "text": [
      "Shape of iris dataset: (150, 4)\n",
      "Features: Index(['sepal_length', 'sepal_width', 'petal_length', 'petal_width'], dtype='object')\n",
      "Label: class\n",
      "[[5.1 3.5 1.4 0.2]\n",
      " [4.9 3.  1.4 0.2]\n",
      " [4.7 3.2 1.3 0.2]\n",
      " [4.6 3.1 1.5 0.2]\n",
      " [5.  3.6 1.4 0.2]\n",
      " [5.4 3.9 1.7 0.4]\n",
      " [4.6 3.4 1.4 0.3]\n",
      " [5.  3.4 1.5 0.2]\n",
      " [4.4 2.9 1.4 0.2]\n",
      " [4.9 3.1 1.5 0.1]\n",
      " [5.4 3.7 1.5 0.2]\n",
      " [4.8 3.4 1.6 0.2]\n",
      " [4.8 3.  1.4 0.1]\n",
      " [4.3 3.  1.1 0.1]\n",
      " [5.8 4.  1.2 0.2]\n",
      " [5.7 4.4 1.5 0.4]\n",
      " [5.4 3.9 1.3 0.4]\n",
      " [5.1 3.5 1.4 0.3]\n",
      " [5.7 3.8 1.7 0.3]\n",
      " [5.1 3.8 1.5 0.3]\n",
      " [5.4 3.4 1.7 0.2]\n",
      " [5.1 3.7 1.5 0.4]\n",
      " [4.6 3.6 1.  0.2]\n",
      " [5.1 3.3 1.7 0.5]\n",
      " [4.8 3.4 1.9 0.2]\n",
      " [5.  3.  1.6 0.2]\n",
      " [5.  3.4 1.6 0.4]\n",
      " [5.2 3.5 1.5 0.2]\n",
      " [5.2 3.4 1.4 0.2]\n",
      " [4.7 3.2 1.6 0.2]\n",
      " [4.8 3.1 1.6 0.2]\n",
      " [5.4 3.4 1.5 0.4]\n",
      " [5.2 4.1 1.5 0.1]\n",
      " [5.5 4.2 1.4 0.2]\n",
      " [4.9 3.1 1.5 0.1]\n",
      " [5.  3.2 1.2 0.2]\n",
      " [5.5 3.5 1.3 0.2]\n",
      " [4.9 3.1 1.5 0.1]\n",
      " [4.4 3.  1.3 0.2]\n",
      " [5.1 3.4 1.5 0.2]\n",
      " [5.  3.5 1.3 0.3]\n",
      " [4.5 2.3 1.3 0.3]\n",
      " [4.4 3.2 1.3 0.2]\n",
      " [5.  3.5 1.6 0.6]\n",
      " [5.1 3.8 1.9 0.4]\n",
      " [4.8 3.  1.4 0.3]\n",
      " [5.1 3.8 1.6 0.2]\n",
      " [4.6 3.2 1.4 0.2]\n",
      " [5.3 3.7 1.5 0.2]\n",
      " [5.  3.3 1.4 0.2]\n",
      " [7.  3.2 4.7 1.4]\n",
      " [6.4 3.2 4.5 1.5]\n",
      " [6.9 3.1 4.9 1.5]\n",
      " [5.5 2.3 4.  1.3]\n",
      " [6.5 2.8 4.6 1.5]\n",
      " [5.7 2.8 4.5 1.3]\n",
      " [6.3 3.3 4.7 1.6]\n",
      " [4.9 2.4 3.3 1. ]\n",
      " [6.6 2.9 4.6 1.3]\n",
      " [5.2 2.7 3.9 1.4]\n",
      " [5.  2.  3.5 1. ]\n",
      " [5.9 3.  4.2 1.5]\n",
      " [6.  2.2 4.  1. ]\n",
      " [6.1 2.9 4.7 1.4]\n",
      " [5.6 2.9 3.6 1.3]\n",
      " [6.7 3.1 4.4 1.4]\n",
      " [5.6 3.  4.5 1.5]\n",
      " [5.8 2.7 4.1 1. ]\n",
      " [6.2 2.2 4.5 1.5]\n",
      " [5.6 2.5 3.9 1.1]\n",
      " [5.9 3.2 4.8 1.8]\n",
      " [6.1 2.8 4.  1.3]\n",
      " [6.3 2.5 4.9 1.5]\n",
      " [6.1 2.8 4.7 1.2]\n",
      " [6.4 2.9 4.3 1.3]\n",
      " [6.6 3.  4.4 1.4]\n",
      " [6.8 2.8 4.8 1.4]\n",
      " [6.7 3.  5.  1.7]\n",
      " [6.  2.9 4.5 1.5]\n",
      " [5.7 2.6 3.5 1. ]\n",
      " [5.5 2.4 3.8 1.1]\n",
      " [5.5 2.4 3.7 1. ]\n",
      " [5.8 2.7 3.9 1.2]\n",
      " [6.  2.7 5.1 1.6]\n",
      " [5.4 3.  4.5 1.5]\n",
      " [6.  3.4 4.5 1.6]\n",
      " [6.7 3.1 4.7 1.5]\n",
      " [6.3 2.3 4.4 1.3]\n",
      " [5.6 3.  4.1 1.3]\n",
      " [5.5 2.5 4.  1.3]\n",
      " [5.5 2.6 4.4 1.2]\n",
      " [6.1 3.  4.6 1.4]\n",
      " [5.8 2.6 4.  1.2]\n",
      " [5.  2.3 3.3 1. ]\n",
      " [5.6 2.7 4.2 1.3]\n",
      " [5.7 3.  4.2 1.2]\n",
      " [5.7 2.9 4.2 1.3]\n",
      " [6.2 2.9 4.3 1.3]\n",
      " [5.1 2.5 3.  1.1]\n",
      " [5.7 2.8 4.1 1.3]\n",
      " [6.3 3.3 6.  2.5]\n",
      " [5.8 2.7 5.1 1.9]\n",
      " [7.1 3.  5.9 2.1]\n",
      " [6.3 2.9 5.6 1.8]\n",
      " [6.5 3.  5.8 2.2]\n",
      " [7.6 3.  6.6 2.1]\n",
      " [4.9 2.5 4.5 1.7]\n",
      " [7.3 2.9 6.3 1.8]\n",
      " [6.7 2.5 5.8 1.8]\n",
      " [7.2 3.6 6.1 2.5]\n",
      " [6.5 3.2 5.1 2. ]\n",
      " [6.4 2.7 5.3 1.9]\n",
      " [6.8 3.  5.5 2.1]\n",
      " [5.7 2.5 5.  2. ]\n",
      " [5.8 2.8 5.1 2.4]\n",
      " [6.4 3.2 5.3 2.3]\n",
      " [6.5 3.  5.5 1.8]\n",
      " [7.7 3.8 6.7 2.2]\n",
      " [7.7 2.6 6.9 2.3]\n",
      " [6.  2.2 5.  1.5]\n",
      " [6.9 3.2 5.7 2.3]\n",
      " [5.6 2.8 4.9 2. ]\n",
      " [7.7 2.8 6.7 2. ]\n",
      " [6.3 2.7 4.9 1.8]\n",
      " [6.7 3.3 5.7 2.1]\n",
      " [7.2 3.2 6.  1.8]\n",
      " [6.2 2.8 4.8 1.8]\n",
      " [6.1 3.  4.9 1.8]\n",
      " [6.4 2.8 5.6 2.1]\n",
      " [7.2 3.  5.8 1.6]\n",
      " [7.4 2.8 6.1 1.9]\n",
      " [7.9 3.8 6.4 2. ]\n",
      " [6.4 2.8 5.6 2.2]\n",
      " [6.3 2.8 5.1 1.5]\n",
      " [6.1 2.6 5.6 1.4]\n",
      " [7.7 3.  6.1 2.3]\n",
      " [6.3 3.4 5.6 2.4]\n",
      " [6.4 3.1 5.5 1.8]\n",
      " [6.  3.  4.8 1.8]\n",
      " [6.9 3.1 5.4 2.1]\n",
      " [6.7 3.1 5.6 2.4]\n",
      " [6.9 3.1 5.1 2.3]\n",
      " [5.8 2.7 5.1 1.9]\n",
      " [6.8 3.2 5.9 2.3]\n",
      " [6.7 3.3 5.7 2.5]\n",
      " [6.7 3.  5.2 2.3]\n",
      " [6.3 2.5 5.  1.9]\n",
      " [6.5 3.  5.2 2. ]\n",
      " [6.2 3.4 5.4 2.3]\n",
      " [5.9 3.  5.1 1.8]]\n"
     ]
    }
   ],
   "source": [
    "from si.io.csv_file import read_csv\n",
    "#iris = read_csv(\"C:/Users/dases/Desktop/SI/repositorio/si/datasets/iris/iris.csv\",)\n",
    "iris = read_csv(\"../datasets/iris/iris.csv\", features=True, label=True)\n",
    "print(\"Shape of iris dataset:\",iris.shape())\n",
    "print(\"Features:\", iris.features)\n",
    "print(\"Label:\", iris.label)\n",
    "print(iris.X)"
   ]
  },
  {
   "cell_type": "markdown",
   "metadata": {},
   "source": [
    "### 1.2)\n",
    "Select the penultimate independent variable. What is the dimension of the resulting array?"
   ]
  },
  {
   "cell_type": "code",
   "execution_count": 2,
   "metadata": {},
   "outputs": [
    {
     "name": "stdout",
     "output_type": "stream",
     "text": [
      "N. of dimensions: 1\n",
      "Shape (150,)\n"
     ]
    }
   ],
   "source": [
    "pen_variable = iris.X[:,-2]\n",
    "print(\"N. of dimensions:\",pen_variable.ndim)\n",
    "print(\"Shape\", pen_variable.shape)"
   ]
  },
  {
   "cell_type": "markdown",
   "metadata": {},
   "source": [
    "### 1.3)\n",
    "Select the last 10 samples from the iris dataset. What is the mean of the last 10 samples for each independent variable/feature?"
   ]
  },
  {
   "cell_type": "code",
   "execution_count": 3,
   "metadata": {},
   "outputs": [
    {
     "name": "stdout",
     "output_type": "stream",
     "text": [
      "[6.45 3.03 5.33 2.17]\n"
     ]
    }
   ],
   "source": [
    "last_ten_samples = iris.X[-10:,:]\n",
    "means= last_ten_samples.mean(axis=0)\n",
    "print(means)"
   ]
  },
  {
   "cell_type": "markdown",
   "metadata": {},
   "source": [
    "### 1.4) \n",
    "Select all samples from the dataset with values less than or equal to 6 for all independent variables/features. How many samples do you obtain?"
   ]
  },
  {
   "cell_type": "code",
   "execution_count": 4,
   "metadata": {},
   "outputs": [
    {
     "name": "stdout",
     "output_type": "stream",
     "text": [
      "Number of samples: 89\n"
     ]
    }
   ],
   "source": [
    "import numpy as np\n",
    "mask_samples = np.all(iris.X <= 6, axis=1)\n",
    "filtered_samples = iris.X[mask_samples,:]\n",
    "print(\"Number of samples:\",filtered_samples.shape[0])   "
   ]
  },
  {
   "cell_type": "markdown",
   "metadata": {},
   "source": [
    "### 1.5) \n",
    "Select all samples with a class/label different from 'Iris-setosa'. How many samples do you obtain?"
   ]
  },
  {
   "cell_type": "code",
   "execution_count": 5,
   "metadata": {},
   "outputs": [
    {
     "name": "stdout",
     "output_type": "stream",
     "text": [
      "Number of samples: 100\n"
     ]
    }
   ],
   "source": [
    "mask_not_iris_setosa = iris.y != \"Iris-setosa\"\n",
    "samples_wo_setosa = iris.X[mask_not_iris_setosa,:]\n",
    "print(\"Number of samples:\",samples_wo_setosa.shape[0])"
   ]
  },
  {
   "cell_type": "markdown",
   "metadata": {},
   "source": [
    "## Exercise 2: NumPy array Indexing/Slicing"
   ]
  },
  {
   "cell_type": "markdown",
   "metadata": {},
   "source": [
    "### 2.1) \n",
    "\n",
    "Add a method to the Dataset class that removes all samples containing at least one null value (NaN). Note that the resulting object should not contain null values in any independent feature/variable. Also, note that you should update the y vector by removing entries associated with the samples to be removed. You should use only NumPy functions.  \n",
    "\n",
    "Method name: dropna  \n",
    "\n",
    "- def dropna  \n",
    "\n",
    "    - arguments:  \n",
    "        - none  \n",
    "    - expected output:  \n",
    "        - self (modified Dataset object)"
   ]
  },
  {
   "cell_type": "markdown",
   "metadata": {},
   "source": [
    "### 2.2) \n",
    "Add a method to the Dataset class that replaces all null values with another value or the mean or median of the feature/variable. Note that the resulting object should not contain null values in any independent feature/variable. You should use only NumPy functions.  \n",
    "\n",
    "Method name: fillna  \n",
    "\n",
    "- def fillna  \n",
    "\n",
    "    - arguments:\n",
    "        - value – float or \"mean\" or \"median\"\n",
    "    - expected output:\n",
    "        - self (modified Dataset object)"
   ]
  },
  {
   "cell_type": "markdown",
   "metadata": {},
   "source": [
    "### 2.3) \n",
    "Add a method to the Dataset class that removes a sample by its index. Note that you should also update the y vector by removing the entry associated with the sample to be removed. You should use only NumPy functions.  \n",
    "\n",
    "Method name: remove_by_index  \n",
    "\n",
    "- def remove_by_index  \n",
    "\n",
    "    - arguments:\n",
    "        - index – integer corresponding to the sample to remove\n",
    "    - expected output:\n",
    "        - self (modified Dataset object)"
   ]
  },
  {
   "cell_type": "markdown",
   "metadata": {},
   "source": [
    "### Optional \n",
    "You can add examples of how to use these methods to the script/notebook of Exercise 1."
   ]
  },
  {
   "cell_type": "code",
   "execution_count": 6,
   "metadata": {},
   "outputs": [
    {
     "name": "stdout",
     "output_type": "stream",
     "text": [
      "Shape of iris dataset with NaNs: (150, 4)\n",
      "Shape after dropna: (148, 4)\n"
     ]
    }
   ],
   "source": [
    "# Since iris as no NaN values, I introduced NaN values for testing\n",
    "iris.X[0, 0] = np.nan  \n",
    "iris.X[5, 1] = np.nan  \n",
    "\n",
    "# Display initial shape and data\n",
    "print(\"Shape of iris dataset with NaNs:\", iris.X.shape)\n",
    "\n",
    "# Example 1: Remove samples with NaN values\n",
    "iris_cleaned = iris.dropna()\n",
    "print(\"Shape after dropna:\", iris_cleaned.X.shape)  # Should be (148, 4)\n"
   ]
  },
  {
   "cell_type": "code",
   "execution_count": 7,
   "metadata": {},
   "outputs": [
    {
     "name": "stdout",
     "output_type": "stream",
     "text": [
      "Initial NaNs in the dataset: 2\n",
      "NaNs after filling with 0.0: 0\n",
      "NaNs after filling with column means: 0\n",
      "NaNs after filling with column medians: 0\n"
     ]
    }
   ],
   "source": [
    "iris = read_csv(\"../datasets/iris/iris.csv\", features=True, label=True)\n",
    "\n",
    "# Introduce NaN values for testing\n",
    "iris.X[10, 2] = np.nan  \n",
    "iris.X[15, 3] = np.nan  \n",
    "\n",
    "# Check for NaNs before filling, should be 2 (we introduced NaN values for testing)\n",
    "initial_nans = np.isnan(iris.X).sum()\n",
    "print(\"Initial NaNs in the dataset:\", initial_nans)\n",
    "\n",
    "# Fill NaN values with a specific value\n",
    "iris_filled_value = iris.fillna(0.0)  \n",
    "print(\"NaNs after filling with 0.0:\", np.isnan(iris_filled_value.X).sum())\n",
    "\n",
    "# Fill NaN values with the column-wise mean\n",
    "iris_filled_mean = iris.fillna(\"MEAN\") \n",
    "print(\"NaNs after filling with column means:\", np.isnan(iris_filled_mean.X).sum())\n",
    "\n",
    "# Fill NaN values with the column-wise median\n",
    "iris_filled_median = iris.fillna(\"MEDIAN\")  \n",
    "print(\"NaNs after filling with column medians:\", np.isnan(iris_filled_median.X).sum())\n"
   ]
  },
  {
   "cell_type": "code",
   "execution_count": 8,
   "metadata": {},
   "outputs": [
    {
     "name": "stdout",
     "output_type": "stream",
     "text": [
      "Initial shape of iris dataset: (150, 4)\n",
      "Shape after removing sample at index 5: (149, 4)\n",
      "Removed sample data: [4.6 3.4 1.4 0.3]\n"
     ]
    }
   ],
   "source": [
    "iris = read_csv(\"../datasets/iris/iris.csv\", features=True, label=True)\n",
    "\n",
    "# Display initial shape and data\n",
    "print(\"Initial shape of iris dataset:\", iris.X.shape)\n",
    "\n",
    "# Remove the sample from index 5\n",
    "index_to_remove = 5 \n",
    "iris_after_removal = iris.remove_by_index(index_to_remove)\n",
    "print(\"Shape after removing sample at index 5:\", iris_after_removal.X.shape)  # Should be (149, 4)\n",
    "\n",
    "# Verify that the sample has been removed\n",
    "print(\"Removed sample data:\", iris.X[index_to_remove] if index_to_remove < iris.X.shape[0] else \"Sample removed\")\n"
   ]
  },
  {
   "cell_type": "markdown",
   "metadata": {},
   "source": [
    "## Exercise 3: Implementing SelectPercentile"
   ]
  },
  {
   "cell_type": "markdown",
   "metadata": {},
   "source": [
    "### 3.1) \n",
    "Add the SelectPercentile object to the feature_selection sub-package. You should create a module called \"select_percentile.py\" to implement this object. The SelectPercentile class has a similar architecture to the SelectKBest class. Consider the structure presented:  \n",
    "\n",
    "- class SelectPercentile(Transformer):\n",
    "    - parameters:\n",
    "        - score_func – variance analysis function (f_classification by default)\n",
    "        - percentile – percentile for selecting features\n",
    "    - estimated parameters:\n",
    "        - F – the F value for each feature estimated by the score_func\n",
    "        - p – the p value for each feature estimated by the score_func\n",
    "    - methods:\n",
    "        - _fit – estimates the F and p values for each feature using the scoring_func; returns itself (self)\n",
    "        - _transform – selects features with the highest F value up to the specified percentile. For example, for a dataset with 10 features and a percentile of 50% your transform should select the top 5 features with the highest F value. Returns the transformed Dataset object."
   ]
  },
  {
   "cell_type": "markdown",
   "metadata": {},
   "source": [
    "### 3.3) \n",
    "Test the SelectPercentile class in a Jupyter notebook using the \"iris.csv\" dataset (classification)."
   ]
  },
  {
   "cell_type": "code",
   "execution_count": 9,
   "metadata": {},
   "outputs": [
    {
     "name": "stdout",
     "output_type": "stream",
     "text": [
      "Original features: Index(['sepal_length', 'sepal_width', 'petal_length', 'petal_width'], dtype='object')\n",
      "Selected features: ['petal_length', 'petal_width']\n",
      "Original shape: (150, 4)\n",
      "New shape: (150, 2)\n"
     ]
    }
   ],
   "source": [
    "import numpy as np\n",
    "from si.feature_selection.select_percentile import SelectPercentile\n",
    "from si.statistics.f_classification import f_classification\n",
    "\n",
    "# 'iris' is defined again because of previous solved optional exercise:\n",
    "iris = read_csv(\"../datasets/iris/iris.csv\", features=True, label=True)\n",
    "\n",
    "# Initialize SelectPercentile\n",
    "percentile = 50\n",
    "selector = SelectPercentile(score_func=f_classification, percentile=percentile)\n",
    "\n",
    "# Fit the selector\n",
    "selector.fit(iris)\n",
    "\n",
    "# Transform the dataset\n",
    "new_iris = selector.transform(iris)\n",
    "\n",
    "# Display results\n",
    "print(\"Original features:\", iris.features)\n",
    "print(\"Selected features:\", new_iris.features)\n",
    "print(\"Original shape:\", iris.X.shape)\n",
    "print(\"New shape:\", new_iris.X.shape)\n"
   ]
  }
 ],
 "metadata": {
  "kernelspec": {
   "display_name": "base",
   "language": "python",
   "name": "python3"
  },
  "language_info": {
   "codemirror_mode": {
    "name": "ipython",
    "version": 3
   },
   "file_extension": ".py",
   "mimetype": "text/x-python",
   "name": "python",
   "nbconvert_exporter": "python",
   "pygments_lexer": "ipython3",
   "version": "3.11.4"
  }
 },
 "nbformat": 4,
 "nbformat_minor": 2
}
