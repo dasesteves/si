{
 "cells": [
  {
   "cell_type": "markdown",
   "metadata": {},
   "source": [
    "# SIB - Portfolio of Machine Learning Algorithms"
   ]
  },
  {
   "cell_type": "markdown",
   "metadata": {},
   "source": [
    "## Exercise 3: Implementing SelectPercentile"
   ]
  },
  {
   "cell_type": "markdown",
   "metadata": {},
   "source": [
    "### 3.1) \n",
    "Add the SelectPercentile object to the feature_selection sub-package. You should create a module called \"select_percentile.py\" to implement this object. The SelectPercentile class has a similar architecture to the SelectKBest class. Consider the structure presented:  \n",
    "\n",
    "- class SelectPercentile(Transformer):\n",
    "    - parameters:\n",
    "        - score_func – variance analysis function (f_classification by default)\n",
    "        - percentile – percentile for selecting features\n",
    "    - estimated parameters:\n",
    "        - F – the F value for each feature estimated by the score_func\n",
    "        - p – the p value for each feature estimated by the score_func\n",
    "    - methods:\n",
    "        - _fit – estimates the F and p values for each feature using the scoring_func; returns itself (self)\n",
    "        - _transform – selects features with the highest F value up to the specified percentile. For example, for a dataset with 10 features and a percentile of 50% your transform should select the top 5 features with the highest F value. Returns the transformed Dataset object."
   ]
  },
  {
   "cell_type": "markdown",
   "metadata": {},
   "source": [
    "### 3.3) \n",
    "Test the SelectPercentile class in a Jupyter notebook using the \"iris.csv\" dataset (classification)."
   ]
  },
  {
   "cell_type": "code",
   "execution_count": 6,
   "metadata": {},
   "outputs": [
    {
     "name": "stdout",
     "output_type": "stream",
     "text": [
      "Original features: Index(['sepal_length', 'sepal_width', 'petal_length', 'petal_width'], dtype='object')\n",
      "Selected features: ['petal_length', 'petal_width']\n",
      "Original shape: (150, 4)\n",
      "New shape: (150, 2)\n"
     ]
    }
   ],
   "source": [
    "import sys\n",
    "sys.path.append('C:/Users/dases/Desktop/SI/repositorio/si-2/src')\n",
    "\n",
    "from si.io.csv_file import read_csv\n",
    "\n",
    "# 'iris' is defined again:\n",
    "iris = read_csv(\"../datasets/iris/iris.csv\", features=True, label=True)\n",
    "\n",
    "from si.feature_selection.select_percentile import SelectPercentile\n",
    "from si.statistics.f_classification import f_classification\n",
    "\n",
    "# Initialize SelectPercentile\n",
    "percentile = 50\n",
    "selector = SelectPercentile(score_func=f_classification, percentile=percentile)\n",
    "\n",
    "# Fit the selector\n",
    "selector.fit(iris)\n",
    "\n",
    "# Transform the dataset\n",
    "new_iris = selector.transform(iris)\n",
    "\n",
    "# Display results\n",
    "print(\"Original features:\", iris.features)\n",
    "print(\"Selected features:\", new_iris.features)\n",
    "print(\"Original shape:\", iris.X.shape)\n",
    "print(\"New shape:\", new_iris.X.shape)\n"
   ]
  }
 ],
 "metadata": {
  "kernelspec": {
   "display_name": ".venv",
   "language": "python",
   "name": "python3"
  },
  "language_info": {
   "codemirror_mode": {
    "name": "ipython",
    "version": 3
   },
   "file_extension": ".py",
   "mimetype": "text/x-python",
   "name": "python",
   "nbconvert_exporter": "python",
   "pygments_lexer": "ipython3",
   "version": "3.11.9"
  }
 },
 "nbformat": 4,
 "nbformat_minor": 2
}
