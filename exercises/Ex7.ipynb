{
 "cells": [
  {
   "cell_type": "markdown",
   "metadata": {},
   "source": [
    "# SIB - Portfolio of Machine Learning Algorithms"
   ]
  },
  {
   "cell_type": "markdown",
   "metadata": {},
   "source": [
    "## Exercise 7: Implementing the KNNRegressor with RMSE"
   ]
  },
  {
   "cell_type": "markdown",
   "metadata": {},
   "source": [
    "### 7.1) \n",
    "Add the RMSE metric to the \"metrics\" sub-package.\n",
    "You must create a new module named \"rmse.py\".\n",
    "Consider the structure of the rmse function as presented in the following slide:\n",
    "\n",
    "  - In the \"metrics\" sub-package, add a new module named \"rmse.py\" containing the following function:\n",
    "\n",
    "  def rmse:\n",
    "  - arguments:\n",
    "    - y_true – real values of y\n",
    "    - y_pred – predicted values of y\n",
    "  - expected output:\n",
    "    - A float corresponding to the error between y_true and y_pred\n",
    "  - algorithm:\n",
    "    - Calculate the error following the RMSE formula\n"
   ]
  },
  {
   "cell_type": "markdown",
   "metadata": {},
   "source": [
    "### 7.2) \n",
    "Add the \"KNNRegressor\" class to the \"models\" sub- package. You should create a module named \"knn_regressor.py\" to implement this class. Consider the structure of the \"KNNRegressor\" as presented in the next slides:\n",
    "\n"
   ]
  },
  {
   "cell_type": "markdown",
   "metadata": {},
   "source": [
    "#### KNNRegressor Class\n",
    "\n",
    "In the \"models\" sub-package, add the module \"knn_regressor.py\", which should contain the \"KNNRegressor\" class.\n",
    "\n",
    "class KNNRegressor(Model):\n",
    "- parameters:\n",
    "  - k – the number of k nearest examples to consider\n",
    "  - distance – a function that calculates the distance between a sample and the samples in the training dataset\n",
    "- estimated parameters:\n",
    "  - dataset – stores the training dataset\n",
    "- methods:\n",
    "  - _fit – stores the training dataset\n",
    "  - _predict – estimates the label value for a sample based on the k most similar examples\n",
    "  - _score – calculates the error between the estimated values and the real ones (rmse)\n",
    "\n",
    "---\n",
    "\n",
    "KNNRegressor._fit:\n",
    "- signature:\n",
    "  - Input: dataset – training dataset\n",
    "  - Output: self – KNNRegressor\n",
    "- algorithm:\n",
    "  - Store the training dataset\n",
    "\n",
    "---\n",
    "\n",
    "KNNRegressor._predict:\n",
    "- signature:\n",
    "  - Input: dataset – test dataset\n",
    "  - Output: predictions – an array of predicted values for the testing dataset (y_pred)\n",
    "- algorithm:\n",
    "  1. Calculate the distance between each sample and various samples in the training dataset\n",
    "  2. Obtain the indexes of the k most similar examples (shortest distance)\n",
    "  3. Use the previous indexes to retrieve the corresponding values in y\n",
    "  4. Calculate the average of the values obtained in step 3\n",
    "  5. Apply steps 1, 2, 3, and 4 to all samples in the testing dataset\n",
    "\n",
    "---\n",
    "\n",
    "KNNRegressor._score:\n",
    "- signature:\n",
    "  - Input: dataset – test dataset\n",
    "  - Output: error – error between predictions and actual values\n",
    "- algorithm:\n",
    "  1. Get the predictions (y_pred)\n",
    "  2. Calculate the rmse between actual values and predictions\n"
   ]
  },
  {
   "cell_type": "markdown",
   "metadata": {},
   "source": [
    "### 7.3) \n",
    "Test the \"KNNRegressor\" class using the \"cpu.csv\" dataset (regression)."
   ]
  },
  {
   "cell_type": "code",
   "execution_count": 15,
   "metadata": {},
   "outputs": [],
   "source": [
    "import sys\n",
    "sys.path.append('C:/Users/dases/Desktop/SI/repositorio/si-2/src')\n",
    "\n",
    "import numpy as np\n",
    "from si.io.csv_file import read_csv\n",
    "from si.models.knn_regressor import KNNRegressor\n",
    "from si.model_selection.split import train_test_split\n",
    "from si.metrics.rmse import rmse\n",
    "from sklearn.neighbors import KNeighborsRegressor\n",
    "from sklearn.metrics import mean_squared_error\n",
    "\n",
    "# Carregar o dataset cpu\n",
    "cpu = read_csv(\"../datasets/cpu/cpu.csv\", features=True, label=True)\n"
   ]
  },
  {
   "cell_type": "code",
   "execution_count": 17,
   "metadata": {},
   "outputs": [
    {
     "name": "stdout",
     "output_type": "stream",
     "text": [
      "Train shape: (168, 6)\n",
      "Test shape: (41, 6)\n",
      "Predictions: [140.66666667  29.33333333  35.66666667 701.33333333  18.66666667]\n",
      "Actual values: [274  30  22 915  16]\n",
      "RMSE: 81.36259969252635\n"
     ]
    }
   ],
   "source": [
    "# Dividir o dataset em treino e teste\n",
    "train, test = train_test_split(cpu, test_size=0.2, random_state=42)\n",
    "\n",
    "# Inicializar o KNNRegressor com k=3\n",
    "knn = KNNRegressor(k=3)\n",
    "\n",
    "# Ajustar o modelo aos dados de treinamento\n",
    "knn.fit(train)\n",
    "\n",
    "# Fazer previsões nos dados de teste\n",
    "predictions = knn.predict(test)\n",
    "\n",
    "# Calcular o RMSE\n",
    "error = rmse(test.y, predictions)\n",
    "\n",
    "# Imprimir resultados\n",
    "print(\"Train shape:\", train.X.shape)\n",
    "print(\"Test shape:\", test.X.shape)\n",
    "print(\"Predictions:\", predictions[:5])\n",
    "print(\"Actual values:\", test.y[:5])\n",
    "print(\"RMSE:\", error)"
   ]
  }
 ],
 "metadata": {
  "kernelspec": {
   "display_name": ".venv",
   "language": "python",
   "name": "python3"
  },
  "language_info": {
   "codemirror_mode": {
    "name": "ipython",
    "version": 3
   },
   "file_extension": ".py",
   "mimetype": "text/x-python",
   "name": "python",
   "nbconvert_exporter": "python",
   "pygments_lexer": "ipython3",
   "version": "3.11.9"
  }
 },
 "nbformat": 4,
 "nbformat_minor": 2
}
