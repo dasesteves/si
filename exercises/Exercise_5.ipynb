{
 "cells": [
  {
   "cell_type": "markdown",
   "metadata": {},
   "source": [
    "# SIB - Portfolio of Machine Learning Algorithms"
   ]
  },
  {
   "cell_type": "markdown",
   "metadata": {},
   "source": [
    "## Exercise 5: Implementing PCA"
   ]
  },
  {
   "cell_type": "markdown",
   "metadata": {},
   "source": [
    "### 5.1) \n",
    "Add the PCA class in the \"pca.py\" module on the \"decomposition\" sub-package."
   ]
  },
  {
   "cell_type": "code",
   "execution_count": 1,
   "metadata": {},
   "outputs": [],
   "source": [
    "import numpy as np\n",
    "from si.decomposition.pca import PCA\n",
    "from si.io.csv_file import read_csv"
   ]
  },
  {
   "cell_type": "markdown",
   "metadata": {},
   "source": [
    "### 5.2) \n",
    "Test the PCA class using the iris.csv dataset (classification)"
   ]
  },
  {
   "cell_type": "code",
   "execution_count": 2,
   "metadata": {},
   "outputs": [
    {
     "name": "stdout",
     "output_type": "stream",
     "text": [
    ]
   ],
   "source": [
    "# Load the iris dataset\n",
    "iris = read_csv(\"../datasets/iris/iris.csv\", features=True, label=True)\n",
    "\n",
    "# Initialize PCA with 2 components\n",
    "pca = PCA(n_components=2)\n",
    "\n",
    "# Fit and transform the data\n",
    "transformed_iris = pca.fit_transform(iris)\n",
    "\n",
    "# Print original and transformed shapes\n",
    "print(\"Original shape:\", iris.X.shape)\n",
    "print(\"Transformed shape:\", transformed_iris.X.shape)\n",
    "\n",
    "# Print explained variance ratio\n",
    "print(\"\\nExplained variance ratio:\")\n",
    "for i, var in enumerate(pca.explained_variance):\n",
    "    print(f\"PC{i+1}: {var:.4f}\")\n",
    "\n",
    "# Print new feature names\n",
    "print(\"\\nNew features:\", transformed_iris.features)"
   ]
  }
 ],
 "metadata": {
  "kernelspec": {
   "display_name": "base",
   "language": "python",
   "name": "python3"
  },
  "language_info": {
   "codemirror_mode": {
    "name": "ipython",
    "version": 3
   },
   "file_extension": ".py",
   "mimetype": "text/x-python",
   "name": "python",
   "nbconvert_exporter": "python",
   "pygments_lexer": "ipython3",
   "version": "3.11.4"
  }
 },
 "nbformat": 4,
 "nbformat_minor": 2
}
